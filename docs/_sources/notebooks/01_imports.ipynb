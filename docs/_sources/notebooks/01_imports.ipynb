{
 "cells": [
  {
   "cell_type": "markdown",
   "id": "ce3c1c2c",
   "metadata": {},
   "source": [
    "# Capítulo 1: Imports y configuración\n",
    "\n",
    "En este capítulo se cargan las librerías necesarias (pandas, geopandas, matplotlib, mapclassify), se silencian *warnings* menores y se ajusta la visualización (por ejemplo, ancho de columnas).  \n",
    "También se definen rutas de trabajo y se crean carpetas de salida si no existen.\n",
    "\n",
    "**Objetivo:** dejar listo el entorno para el análisis.  \n",
    "**Entradas:** —  \n",
    "**Salidas:** configuración del entorno (y, si aplica, carpetas `data/` y `figs/`).\n"
   ]
  },
  {
   "cell_type": "code",
   "execution_count": null,
   "id": "e9c77c53",
   "metadata": {},
   "outputs": [],
   "source": [
    "\n",
    "import os, re, warnings\n",
    "import pandas as pd\n",
    "import geopandas as gpd\n",
    "import matplotlib.pyplot as plt\n",
    "import mapclassify as mc\n",
    "warnings.filterwarnings('ignore')\n",
    "pd.set_option('display.max_columns', 120)"
   ]
  }
 ],
 "metadata": {
  "language_info": {
   "name": "python"
  }
 },
 "nbformat": 4,
 "nbformat_minor": 5
}
