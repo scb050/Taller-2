{
 "cells": [
  {
   "cell_type": "markdown",
   "id": "7557e0ef",
   "metadata": {},
   "source": [
    "# Capítulo 6: Validación\n",
    "\n",
    "Se realizan chequeos rápidos de calidad: valores faltantes, rangos y distribución de la variable, top/bottom departamentos, y (si aplica) comparación entre métodos de clasificación para detectar outliers o resultados inverosímiles.\n",
    "\n",
    "**Objetivo:** asegurar que los resultados sean consistentes y reproducibles.  \n",
    "**Entradas:** unión geográfica y variable objetivo.  \n",
    "**Salidas:** tablas/resúmenes de validación y observaciones de calidad.\n"
   ]
  },
  {
   "cell_type": "code",
   "execution_count": null,
   "id": "4e5e6d60",
   "metadata": {},
   "outputs": [
    {
     "name": "stdout",
     "output_type": "stream",
     "text": [
      "Filas: 33 | Columnas: ['DPTO_CCDGO', 'DPTO_CNMBR', 'DIRECTORIO', 'geometry']\n",
      "Faltantes en DIRECTORIO: 2\n",
      "Duplicados de DPTO_CCDGO: 0\n",
      "Cobertura de la variable: 94%\n",
      "Guardado CSVs de validación en ../data/\n"
     ]
    }
   ],
   "source": [
    "\n",
    "import pandas as pd\n",
    "import geopandas as gpd\n",
    "from pathlib import Path\n",
    "\n",
    "# 1) Cargar unión del Cap. 4\n",
    "RUTA_GPKG = Path(\"..\")/\"data\"/\"union_departamentos.gpkg\"\n",
    "gdf = gpd.read_file(RUTA_GPKG, layer=\"union\").to_crs(4326)\n",
    "print(\"Filas:\", len(gdf), \"| Columnas:\", list(gdf.columns))\n",
    "\n",
    "# 2) Elige la variable que mapeaste en Cap. 5\n",
    "VARIABLE = \"DIRECTORIO\"        # o \"CUENTAS\" si usaste conteo\n",
    "assert VARIABLE in gdf.columns, f\"No existe {VARIABLE} en la capa.\"\n",
    "\n",
    "# 3) Faltantes por departamento (tabla para el informe)\n",
    "faltantes = (gdf[gdf[VARIABLE].isna()][[\"DPTO_CCDGO\",\"DPTO_CNMBR\"]]\n",
    "             .sort_values(\"DPTO_CCDGO\"))\n",
    "faltantes.reset_index(drop=True, inplace=True)\n",
    "print(f\"Faltantes en {VARIABLE}: {len(faltantes)}\")\n",
    "faltantes\n",
    "\n",
    "# 4) Estadísticas descriptivas\n",
    "desc = gdf[VARIABLE].describe()\n",
    "desc\n",
    "\n",
    "# 5) Duplicados y cobertura\n",
    "dup = gdf[\"DPTO_CCDGO\"].duplicated().sum()\n",
    "print(\"Duplicados de DPTO_CCDGO:\", dup)\n",
    "cobertura = gdf[VARIABLE].notna().mean()\n",
    "print(f\"Cobertura de la variable: {cobertura:.0%}\")\n",
    "\n",
    "# 6) Exportar validación\n",
    "out_dir = Path(\"..\")/\"data\"\n",
    "out_dir.mkdir(exist_ok=True)\n",
    "(faltantes.assign(variable=VARIABLE)\n",
    "         .to_csv(out_dir/f\"validacion_faltantes_{VARIABLE}.csv\", index=False))\n",
    "desc.to_frame(\"valor\").to_csv(out_dir/f\"validacion_descriptivos_{VARIABLE}.csv\")\n",
    "print(\"Guardado CSVs de validación en ../data/\")\n"
   ]
  },
  {
   "cell_type": "markdown",
   "id": "0a262f83",
   "metadata": {},
   "source": [
    "## Validación del dataset geoespacial\n",
    "\n",
    "Después de la unión entre el shapefile de departamentos y el dataset estadístico, se realizó un proceso de validación de la información.\n",
    "\n",
    "### Resultados\n",
    "- **Filas totales:** 33 (corresponde al número de departamentos de Colombia).  \n",
    "- **Columnas disponibles:** `['DPTO_CCDGO', 'DPTO_CNMBR', 'DIRECTORIO', 'geometry']`.  \n",
    "- **Valores faltantes en `DIRECTORIO`:** 2 registros sin dato asociado.  \n",
    "- **Duplicados en `DPTO_CCDGO`:** 0 (cada departamento aparece una sola vez).  \n",
    "- **Cobertura de la variable:** 94% (la mayoría de los departamentos tienen valores, pero algunos están incompletos).  \n",
    "- **Archivos de validación:** CSVs exportados en la carpeta `../data/`.  \n",
    "\n",
    "### Observaciones\n",
    "- La cobertura del 94% indica que **casi todos los departamentos tienen información válida**, pero un pequeño porcentaje no fue asociado correctamente.  \n",
    "- La ausencia de duplicados en `DPTO_CCDGO` garantiza que no hay inconsistencias en la clave de unión.  \n",
    "- Los 2 valores faltantes en `DIRECTORIO` deben ser revisados para decidir si se imputan, corrigen o eliminan.  \n",
    "\n",
    "### Conclusión\n",
    "El proceso de validación muestra que el dataset está **limpio y consistente en un 94%**, listo para análisis geoespacial y estadístico. Solo se requiere revisar los registros faltantes en `DIRECTORIO` para alcanzar una cobertura completa.\n"
   ]
  }
 ],
 "metadata": {
  "kernelspec": {
   "display_name": "geo_env",
   "language": "python",
   "name": "python3"
  },
  "language_info": {
   "codemirror_mode": {
    "name": "ipython",
    "version": 3
   },
   "file_extension": ".py",
   "mimetype": "text/x-python",
   "name": "python",
   "nbconvert_exporter": "python",
   "pygments_lexer": "ipython3",
   "version": "3.10.18"
  }
 },
 "nbformat": 4,
 "nbformat_minor": 5
}
